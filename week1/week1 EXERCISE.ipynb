{
 "cells": [
  {
   "cell_type": "markdown",
   "id": "fe12c203-e6a6-452c-a655-afb8a03a4ff5",
   "metadata": {},
   "source": [
    "# End of week 1 exercise\n",
    "\n",
    "To demonstrate your familiarity with OpenAI API, and also Ollama, build a tool that takes a technical question,  \n",
    "and responds with an explanation. This is a tool that you will be able to use yourself during the course!"
   ]
  },
  {
   "cell_type": "code",
   "execution_count": 16,
   "id": "c1070317-3ed9-4659-abe3-828943230e03",
   "metadata": {},
   "outputs": [],
   "source": [
    "# imports\n",
    "import os\n",
    "from dotenv import load_dotenv\n",
    "from openai import OpenAI"
   ]
  },
  {
   "cell_type": "code",
   "execution_count": 17,
   "id": "4a456906-915a-4bfd-bb9d-57e505c5093f",
   "metadata": {},
   "outputs": [],
   "source": [
    "# constants\n",
    "\n",
    "MODEL_GPT = 'gpt-4o-mini'\n",
    "MODEL_LLAMA = 'llama3.2'"
   ]
  },
  {
   "cell_type": "code",
   "execution_count": 18,
   "id": "a8d7923c-5f28-4c30-8556-342d7c8497c1",
   "metadata": {},
   "outputs": [],
   "source": [
    "# set up environment\n",
    "load_dotenv(override=True)\n",
    "api_key = os.getenv('OPENAI_API_KEY')"
   ]
  },
  {
   "cell_type": "code",
   "execution_count": 12,
   "id": "3f0d0137-52b0-47a8-81a8-11a90a010798",
   "metadata": {},
   "outputs": [],
   "source": [
    "# here is the question; type over this to ask something new\n",
    "\n",
    "question = \"\"\"\n",
    "Please explain what this code does and why:\n",
    "import ctypes\n",
    "\n",
    "heavy_obj = create_heavy_obj()\n",
    "\n",
    "# do some jobs\n",
    "\n",
    "del heavy_obj\n",
    "ctypes.CDLL(\"libc.so.6\").malloc_trim(0)\n",
    "\"\"\"\n",
    "\n",
    "messages = [\n",
    "    {\"role\": \"user\", \"content\": question}\n",
    "]"
   ]
  },
  {
   "cell_type": "code",
   "execution_count": 20,
   "id": "60ce7000-a4a5-4cce-a261-e75ef45063b4",
   "metadata": {},
   "outputs": [
    {
     "name": "stdout",
     "output_type": "stream",
     "text": [
      "This snippet of Python code is performing a couple of specific tasks related to memory management, particularly in the context of heavy memory-usage objects in a Python application.\n",
      "\n",
      "### Breakdown of the Code:\n",
      "\n",
      "1. **Importing ctypes**:\n",
      "    ```python\n",
      "    import ctypes\n",
      "    ```\n",
      "   The `ctypes` library in Python allows you to call functions in DLLs or shared libraries and can be used to wrap native libraries in Python. In this case, it's utilized to interact with a C standard library.\n",
      "\n",
      "2. **Creating a Heavy Object**:\n",
      "    ```python\n",
      "    heavy_obj = create_heavy_obj()\n",
      "    ```\n",
      "   This line presumably creates an object (`heavy_obj`) that consumes a significant amount of memory. The specific function `create_heavy_obj()` is not defined in the snippet; we can infer it's designed to allocate a large amount of memory, perhaps for data processing or similar tasks.\n",
      "\n",
      "3. **Doing Some Jobs**:\n",
      "    ```python\n",
      "    # do some jobs\n",
      "    ```\n",
      "   This comment indicates that there are operations or processing that are being performed using the `heavy_obj`. The actual implementation of these operations is not shown and is represented as a comment.\n",
      "\n",
      "4. **Deleting the Heavy Object**:\n",
      "    ```python\n",
      "    del heavy_obj\n",
      "    ```\n",
      "   The `del` statement is used to delete `heavy_obj`, which removes the reference to the large object. In Python, this doesn't immediately free the memory associated with the object but marks it for garbage collection.\n",
      "\n",
      "5. **Invoking malloc_trim**:\n",
      "    ```python\n",
      "    ctypes.CDLL(\"libc.so.6\").malloc_trim(0)\n",
      "    ```\n",
      "   - This line uses `ctypes` to load the GNU C Library (`libc.so.6`), which is commonly found on Unix-like systems (including Linux), and calls the `malloc_trim()` function.\n",
      "   - The `malloc_trim()` function is a special memory management function that attempts to release unused memory chunks back to the operating system. When you call `malloc_trim(0)`, it tells the allocator to release any memory that has been freed by the program but has not yet been returned to the system.\n",
      "   - This is particularly useful in environments where memory usage is critical, and you want to ensure that as much memory as possible is available for other processes once you are done with a heavy operation.\n",
      "\n",
      "### Summary\n",
      "\n",
      "In essence, this code snippet demonstrates a pattern where:\n",
      "- A resource-intensive (heavy) object is created and used.\n",
      "- After its use is complete, the object is deleted to mark it for garbage collection.\n",
      "- Finally, a system-level call is made to reclaim any memory that is no longer needed, ensuring that the memory footprint is reduced and made available to the operating system. \n",
      "\n",
      "This approach could be important in long-running applications or scripts that process large amounts of data to manage memory efficiently and prevent excessive memory usage.\n"
     ]
    }
   ],
   "source": [
    "# Get gpt-4o-mini to answer, with streaming\n",
    "openai = OpenAI()\n",
    "\n",
    "response = openai.chat.completions.create(\n",
    "    model=MODEL_GPT,\n",
    "    messages=messages\n",
    ")\n",
    "\n",
    "print(response.choices[0].message.content)"
   ]
  },
  {
   "cell_type": "code",
   "execution_count": 14,
   "id": "8f7c8ea8-4082-4ad0-8751-3301adcf6538",
   "metadata": {},
   "outputs": [
    {
     "name": "stdout",
     "output_type": "stream",
     "text": [
      "This code appears to be part of a Python project that interacts with the C standard library. There are several aspects to this code:\n",
      "\n",
      "### Memory allocation and deallocation\n",
      "\n",
      "The first few lines of the code create an object named `heavy_obj` by calling a function named `create_heavy_obj()`. \n",
      "```python\n",
      "import ctypes\n",
      "\n",
      "heavy_obj = create_heavy_obj()\n",
      "```\n",
      "\n",
      "In C, memory is manually managed using pointers. When creating any variable in Python (whether it's an integer, float, or list), Python internally creates a pointer to it if it needs to be allocated some memory.\n",
      "\n",
      "However, since `heavy_obj` is not explicitly created in Python but instead by the external function `create_heavy_obj()`, Python still allocates some memory space. The `del` statement immediately frees this space from Python, although the operating system may re-allocate it back later if other processes use up the available memory.\n",
      "\n",
      "### Call to malloc_trim(0)\n",
      "\n",
      "The next lines in code force free all of heap allocations:\n",
      "```python\n",
      "# do some jobs\n",
      "\n",
      "del heavy_obj\n",
      "ctypes.CDLL(\"libc.so.6\").malloc_trim(0)\n",
      "```\n",
      "\n",
      "`malloc_trim()` is a C function used to \"trim\" the size of dynamically allocated memory pages (`malloc`, `realloc`) when `glibc`, a variant of libc which was used by glibc 2.x for the Linux environment.\n",
      "\n",
      "In other words, this is code to remove all free space after it has been used. Although this function was typically used to \"free extra space in unused parts of the heap\", it can be called on memory which isn't being used with `malloc_trim()`.\n",
      "\n",
      "However, it seems that Python processes would take responsibility to \"free\" the allocated memory using `del`, instead calling a manual `malloc_trim(0)` from C code. So this piece doesn't look right and probably wasn't put there by someone who has some knowledge in C.\n"
     ]
    }
   ],
   "source": [
    "# Get Llama 3.2 to answer\n",
    "openai = OpenAI(base_url='http://localhost:11434/v1', api_key='ollama')\n",
    "\n",
    "response = openai.chat.completions.create(\n",
    "    model=MODEL_LLAMA,\n",
    "    messages=messages\n",
    ")\n",
    "\n",
    "print(response.choices[0].message.content)"
   ]
  },
  {
   "cell_type": "code",
   "execution_count": null,
   "id": "d3ed0c66-33a2-4a7b-b7f0-4f4555a528cd",
   "metadata": {},
   "outputs": [],
   "source": []
  }
 ],
 "metadata": {
  "kernelspec": {
   "display_name": "Python 3 (ipykernel)",
   "language": "python",
   "name": "python3"
  },
  "language_info": {
   "codemirror_mode": {
    "name": "ipython",
    "version": 3
   },
   "file_extension": ".py",
   "mimetype": "text/x-python",
   "name": "python",
   "nbconvert_exporter": "python",
   "pygments_lexer": "ipython3",
   "version": "3.11.11"
  }
 },
 "nbformat": 4,
 "nbformat_minor": 5
}
