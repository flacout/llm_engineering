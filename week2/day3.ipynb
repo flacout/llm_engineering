{
 "cells": [
  {
   "cell_type": "markdown",
   "id": "75e2ef28-594f-4c18-9d22-c6b8cd40ead2",
   "metadata": {},
   "source": [
    "# Day 3 - Conversational AI - aka Chatbot!"
   ]
  },
  {
   "cell_type": "code",
   "execution_count": 1,
   "id": "70e39cd8-ec79-4e3e-9c26-5659d42d0861",
   "metadata": {},
   "outputs": [],
   "source": [
    "# imports\n",
    "\n",
    "import os\n",
    "from dotenv import load_dotenv\n",
    "from openai import OpenAI\n",
    "import gradio as gr"
   ]
  },
  {
   "cell_type": "code",
   "execution_count": 2,
   "id": "231605aa-fccb-447e-89cf-8b187444536a",
   "metadata": {},
   "outputs": [
    {
     "name": "stdout",
     "output_type": "stream",
     "text": [
      "OpenAI API Key exists and begins sk-proj-\n",
      "Anthropic API Key exists and begins sk-ant-\n",
      "Google API Key exists and begins AIzaSyD-\n"
     ]
    }
   ],
   "source": [
    "# Load environment variables in a file called .env\n",
    "# Print the key prefixes to help with any debugging\n",
    "\n",
    "load_dotenv()\n",
    "openai_api_key = os.getenv('OPENAI_API_KEY')\n",
    "anthropic_api_key = os.getenv('ANTHROPIC_API_KEY')\n",
    "google_api_key = os.getenv('GOOGLE_API_KEY')\n",
    "\n",
    "if openai_api_key:\n",
    "    print(f\"OpenAI API Key exists and begins {openai_api_key[:8]}\")\n",
    "else:\n",
    "    print(\"OpenAI API Key not set\")\n",
    "    \n",
    "if anthropic_api_key:\n",
    "    print(f\"Anthropic API Key exists and begins {anthropic_api_key[:7]}\")\n",
    "else:\n",
    "    print(\"Anthropic API Key not set\")\n",
    "\n",
    "if google_api_key:\n",
    "    print(f\"Google API Key exists and begins {google_api_key[:8]}\")\n",
    "else:\n",
    "    print(\"Google API Key not set\")"
   ]
  },
  {
   "cell_type": "code",
   "execution_count": 3,
   "id": "6541d58e-2297-4de1-b1f7-77da1b98b8bb",
   "metadata": {},
   "outputs": [],
   "source": [
    "# Initialize\n",
    "\n",
    "openai = OpenAI()\n",
    "MODEL = 'gpt-4o-mini'"
   ]
  },
  {
   "cell_type": "code",
   "execution_count": 4,
   "id": "e16839b5-c03b-4d9d-add6-87a0f6f37575",
   "metadata": {},
   "outputs": [],
   "source": [
    "system_message = \"You are a helpful assistant\""
   ]
  },
  {
   "cell_type": "markdown",
   "id": "98e97227-f162-4d1a-a0b2-345ff248cbe7",
   "metadata": {},
   "source": [
    "# Please read this! A change from the video:\n",
    "\n",
    "In the video, I explain how we now need to write a function called:\n",
    "\n",
    "`chat(message, history)`\n",
    "\n",
    "Which expects to receive `history` in a particular format, which we need to map to the OpenAI format before we call OpenAI:\n",
    "\n",
    "```\n",
    "[\n",
    "    {\"role\": \"system\", \"content\": \"system message here\"},\n",
    "    {\"role\": \"user\", \"content\": \"first user prompt here\"},\n",
    "    {\"role\": \"assistant\", \"content\": \"the assistant's response\"},\n",
    "    {\"role\": \"user\", \"content\": \"the new user prompt\"},\n",
    "]\n",
    "```\n",
    "This entire context list is actually pass to the LLM as tokens. The tokenizer as a token to express this is a system promp next, and a token to express this is a user prompt next ...etc. The LLM is trained to recognize these tokens.\n",
    "\n",
    "\n",
    "But Gradio has been upgraded! Now it will pass in `history` in the exact OpenAI format, perfect for us to send straight to OpenAI.\n",
    "\n",
    "So our work just got easier!\n",
    "\n",
    "We will write a function `chat(message, history)` where:  \n",
    "**message** is the prompt to use  \n",
    "**history** is the past conversation, in OpenAI format  \n",
    "\n",
    "We will combine the system message, history and latest message, then call OpenAI."
   ]
  },
  {
   "cell_type": "code",
   "execution_count": 5,
   "id": "1eacc8a4-4b48-4358-9e06-ce0020041bc1",
   "metadata": {},
   "outputs": [],
   "source": [
    "# Simpler than in my video - we can easily create this function that calls OpenAI\n",
    "# It's now just 1 line of code to prepare the input to OpenAI!\n",
    "\n",
    "def chat(message, history):\n",
    "    messages = [{\"role\": \"system\", \"content\": system_message}] + history + [{\"role\": \"user\", \"content\": message}]\n",
    "\n",
    "    print(\"History is:\")\n",
    "    print(history)\n",
    "    print(\"And messages is:\")\n",
    "    print(messages)\n",
    "\n",
    "    stream = openai.chat.completions.create(model=MODEL, messages=messages, stream=True)\n",
    "\n",
    "    response = \"\"\n",
    "    for chunk in stream:\n",
    "        response += chunk.choices[0].delta.content or ''\n",
    "        yield response"
   ]
  },
  {
   "cell_type": "markdown",
   "id": "1334422a-808f-4147-9c4c-57d63d9780d0",
   "metadata": {},
   "source": [
    "## And then enter Gradio's magic!"
   ]
  },
  {
   "cell_type": "code",
   "execution_count": 6,
   "id": "0866ca56-100a-44ab-8bd0-1568feaf6bf2",
   "metadata": {},
   "outputs": [
    {
     "name": "stdout",
     "output_type": "stream",
     "text": [
      "* Running on local URL:  http://127.0.0.1:7860\n",
      "\n",
      "To create a public link, set `share=True` in `launch()`.\n"
     ]
    },
    {
     "data": {
      "text/html": [
       "<div><iframe src=\"http://127.0.0.1:7860/\" width=\"100%\" height=\"500\" allow=\"autoplay; camera; microphone; clipboard-read; clipboard-write;\" frameborder=\"0\" allowfullscreen></iframe></div>"
      ],
      "text/plain": [
       "<IPython.core.display.HTML object>"
      ]
     },
     "metadata": {},
     "output_type": "display_data"
    },
    {
     "data": {
      "text/plain": []
     },
     "execution_count": 6,
     "metadata": {},
     "output_type": "execute_result"
    },
    {
     "name": "stdout",
     "output_type": "stream",
     "text": [
      "History is:\n",
      "[]\n",
      "And messages is:\n",
      "[{'role': 'system', 'content': 'You are a helpful assistant'}, {'role': 'user', 'content': 'hello there'}]\n",
      "History is:\n",
      "[{'role': 'user', 'metadata': None, 'content': 'hello there', 'options': None}, {'role': 'assistant', 'metadata': None, 'content': 'Hello! How can I assist you today?', 'options': None}]\n",
      "And messages is:\n",
      "[{'role': 'system', 'content': 'You are a helpful assistant'}, {'role': 'user', 'metadata': None, 'content': 'hello there', 'options': None}, {'role': 'assistant', 'metadata': None, 'content': 'Hello! How can I assist you today?', 'options': None}, {'role': 'user', 'content': 'I want to buy a bike'}]\n",
      "History is:\n",
      "[{'role': 'user', 'metadata': None, 'content': 'hello there', 'options': None}, {'role': 'assistant', 'metadata': None, 'content': 'Hello! How can I assist you today?', 'options': None}, {'role': 'user', 'metadata': None, 'content': 'I want to buy a bike', 'options': None}, {'role': 'assistant', 'metadata': None, 'content': \"Great! Buying a bike can be an exciting experience. Here are some questions to help you narrow down your options:\\n\\n1. **What type of bike are you looking for?**\\n   - Road bike\\n   - Mountain bike\\n   - Hybrid bike\\n   - Electric bike\\n   - Cruiser bike\\n\\n2. **What will you primarily use the bike for?**\\n   - Commuting\\n   - Recreation\\n   - Off-road biking\\n   - Fitness\\n\\n3. **What is your budget?**\\n\\n4. **Do you have any size or fit preferences?**\\n   - It's important to ensure the bike fits you well.\\n\\n5. **Are there any specific features you're looking for?**\\n   - Gearing options, frame material, suspension, etc.\\n\\nOnce you provide more details, I can give you more tailored advice!\", 'options': None}]\n",
      "And messages is:\n",
      "[{'role': 'system', 'content': 'You are a helpful assistant'}, {'role': 'user', 'metadata': None, 'content': 'hello there', 'options': None}, {'role': 'assistant', 'metadata': None, 'content': 'Hello! How can I assist you today?', 'options': None}, {'role': 'user', 'metadata': None, 'content': 'I want to buy a bike', 'options': None}, {'role': 'assistant', 'metadata': None, 'content': \"Great! Buying a bike can be an exciting experience. Here are some questions to help you narrow down your options:\\n\\n1. **What type of bike are you looking for?**\\n   - Road bike\\n   - Mountain bike\\n   - Hybrid bike\\n   - Electric bike\\n   - Cruiser bike\\n\\n2. **What will you primarily use the bike for?**\\n   - Commuting\\n   - Recreation\\n   - Off-road biking\\n   - Fitness\\n\\n3. **What is your budget?**\\n\\n4. **Do you have any size or fit preferences?**\\n   - It's important to ensure the bike fits you well.\\n\\n5. **Are there any specific features you're looking for?**\\n   - Gearing options, frame material, suspension, etc.\\n\\nOnce you provide more details, I can give you more tailored advice!\", 'options': None}, {'role': 'user', 'content': 'I want a montain bike, which are the best brand'}]\n",
      "History is:\n",
      "[{'role': 'user', 'metadata': None, 'content': 'hello there', 'options': None}, {'role': 'assistant', 'metadata': None, 'content': 'Hello! How can I assist you today?', 'options': None}, {'role': 'user', 'metadata': None, 'content': 'I want to buy a bike', 'options': None}, {'role': 'assistant', 'metadata': None, 'content': \"Great! Buying a bike can be an exciting experience. Here are some questions to help you narrow down your options:\\n\\n1. **What type of bike are you looking for?**\\n   - Road bike\\n   - Mountain bike\\n   - Hybrid bike\\n   - Electric bike\\n   - Cruiser bike\\n\\n2. **What will you primarily use the bike for?**\\n   - Commuting\\n   - Recreation\\n   - Off-road biking\\n   - Fitness\\n\\n3. **What is your budget?**\\n\\n4. **Do you have any size or fit preferences?**\\n   - It's important to ensure the bike fits you well.\\n\\n5. **Are there any specific features you're looking for?**\\n   - Gearing options, frame material, suspension, etc.\\n\\nOnce you provide more details, I can give you more tailored advice!\", 'options': None}, {'role': 'user', 'metadata': None, 'content': 'I want a montain bike, which are the best brand', 'options': None}, {'role': 'assistant', 'metadata': None, 'content': \"There are several reputable brands known for their quality mountain bikes. The best brand for you may depend on your specific needs, preferences, and budget. Here’s a list of some of the top mountain bike brands:\\n\\n1. **Trek**: Known for a wide range of models, Trek offers options for all skill levels and terrains.\\n\\n2. **Specialized**: This brand is popular among serious mountain bikers and features innovative technologies and high-performance bikes.\\n\\n3. **Giant**: One of the largest bike manufacturers in the world, Giant provides well-built bikes at various price points.\\n\\n4. **Santa Cruz**: Highly regarded for high-end mountain bikes, known for their quality and performance.\\n\\n5. **Cannondale**: Offering a range of mountain bikes, Cannondale is known for their innovative design and lightweight frames.\\n\\n6. **Rocky Mountain**: A Canadian brand focusing on performance-oriented mountain bikes, great for serious riders.\\n\\n7. **Scott**: Scott has a reputation for innovative technology and offers a variety of mountain bikes designed for different styles of riding.\\n\\n8. **Yeti Cycles**: Yeti is known for high-performance bikes, particularly for aggressive trail and enduro riding.\\n\\n9. **Norco**: A Canadian brand that has a strong reputation for producing quality mountain bikes, especially for varied terrains.\\n\\n10. **Marin Bikes**: A solid option for budget-conscious riders, offering a range of styles and quality for different skill levels.\\n\\nWhen choosing a brand, consider factors such as the specific type of mountain biking you plan to do (cross-country, trail, downhill, etc.), your budget, and whether you prefer any particular features (like full suspension vs. hardtail). It's also a good idea to visit local bike shops to test ride a few models and get a feel for what you like best.\", 'options': None}]\n",
      "And messages is:\n",
      "[{'role': 'system', 'content': 'You are a helpful assistant'}, {'role': 'user', 'metadata': None, 'content': 'hello there', 'options': None}, {'role': 'assistant', 'metadata': None, 'content': 'Hello! How can I assist you today?', 'options': None}, {'role': 'user', 'metadata': None, 'content': 'I want to buy a bike', 'options': None}, {'role': 'assistant', 'metadata': None, 'content': \"Great! Buying a bike can be an exciting experience. Here are some questions to help you narrow down your options:\\n\\n1. **What type of bike are you looking for?**\\n   - Road bike\\n   - Mountain bike\\n   - Hybrid bike\\n   - Electric bike\\n   - Cruiser bike\\n\\n2. **What will you primarily use the bike for?**\\n   - Commuting\\n   - Recreation\\n   - Off-road biking\\n   - Fitness\\n\\n3. **What is your budget?**\\n\\n4. **Do you have any size or fit preferences?**\\n   - It's important to ensure the bike fits you well.\\n\\n5. **Are there any specific features you're looking for?**\\n   - Gearing options, frame material, suspension, etc.\\n\\nOnce you provide more details, I can give you more tailored advice!\", 'options': None}, {'role': 'user', 'metadata': None, 'content': 'I want a montain bike, which are the best brand', 'options': None}, {'role': 'assistant', 'metadata': None, 'content': \"There are several reputable brands known for their quality mountain bikes. The best brand for you may depend on your specific needs, preferences, and budget. Here’s a list of some of the top mountain bike brands:\\n\\n1. **Trek**: Known for a wide range of models, Trek offers options for all skill levels and terrains.\\n\\n2. **Specialized**: This brand is popular among serious mountain bikers and features innovative technologies and high-performance bikes.\\n\\n3. **Giant**: One of the largest bike manufacturers in the world, Giant provides well-built bikes at various price points.\\n\\n4. **Santa Cruz**: Highly regarded for high-end mountain bikes, known for their quality and performance.\\n\\n5. **Cannondale**: Offering a range of mountain bikes, Cannondale is known for their innovative design and lightweight frames.\\n\\n6. **Rocky Mountain**: A Canadian brand focusing on performance-oriented mountain bikes, great for serious riders.\\n\\n7. **Scott**: Scott has a reputation for innovative technology and offers a variety of mountain bikes designed for different styles of riding.\\n\\n8. **Yeti Cycles**: Yeti is known for high-performance bikes, particularly for aggressive trail and enduro riding.\\n\\n9. **Norco**: A Canadian brand that has a strong reputation for producing quality mountain bikes, especially for varied terrains.\\n\\n10. **Marin Bikes**: A solid option for budget-conscious riders, offering a range of styles and quality for different skill levels.\\n\\nWhen choosing a brand, consider factors such as the specific type of mountain biking you plan to do (cross-country, trail, downhill, etc.), your budget, and whether you prefer any particular features (like full suspension vs. hardtail). It's also a good idea to visit local bike shops to test ride a few models and get a feel for what you like best.\", 'options': None}, {'role': 'user', 'content': 'Is Lapierre a good bike brand?'}]\n",
      "History is:\n",
      "[{'role': 'user', 'metadata': None, 'content': 'hello there', 'options': None}, {'role': 'assistant', 'metadata': None, 'content': 'Hello! How can I assist you today?', 'options': None}, {'role': 'user', 'metadata': None, 'content': 'I want to buy a bike', 'options': None}, {'role': 'assistant', 'metadata': None, 'content': \"Great! Buying a bike can be an exciting experience. Here are some questions to help you narrow down your options:\\n\\n1. **What type of bike are you looking for?**\\n   - Road bike\\n   - Mountain bike\\n   - Hybrid bike\\n   - Electric bike\\n   - Cruiser bike\\n\\n2. **What will you primarily use the bike for?**\\n   - Commuting\\n   - Recreation\\n   - Off-road biking\\n   - Fitness\\n\\n3. **What is your budget?**\\n\\n4. **Do you have any size or fit preferences?**\\n   - It's important to ensure the bike fits you well.\\n\\n5. **Are there any specific features you're looking for?**\\n   - Gearing options, frame material, suspension, etc.\\n\\nOnce you provide more details, I can give you more tailored advice!\", 'options': None}, {'role': 'user', 'metadata': None, 'content': 'I want a montain bike, which are the best brand', 'options': None}, {'role': 'assistant', 'metadata': None, 'content': \"There are several reputable brands known for their quality mountain bikes. The best brand for you may depend on your specific needs, preferences, and budget. Here’s a list of some of the top mountain bike brands:\\n\\n1. **Trek**: Known for a wide range of models, Trek offers options for all skill levels and terrains.\\n\\n2. **Specialized**: This brand is popular among serious mountain bikers and features innovative technologies and high-performance bikes.\\n\\n3. **Giant**: One of the largest bike manufacturers in the world, Giant provides well-built bikes at various price points.\\n\\n4. **Santa Cruz**: Highly regarded for high-end mountain bikes, known for their quality and performance.\\n\\n5. **Cannondale**: Offering a range of mountain bikes, Cannondale is known for their innovative design and lightweight frames.\\n\\n6. **Rocky Mountain**: A Canadian brand focusing on performance-oriented mountain bikes, great for serious riders.\\n\\n7. **Scott**: Scott has a reputation for innovative technology and offers a variety of mountain bikes designed for different styles of riding.\\n\\n8. **Yeti Cycles**: Yeti is known for high-performance bikes, particularly for aggressive trail and enduro riding.\\n\\n9. **Norco**: A Canadian brand that has a strong reputation for producing quality mountain bikes, especially for varied terrains.\\n\\n10. **Marin Bikes**: A solid option for budget-conscious riders, offering a range of styles and quality for different skill levels.\\n\\nWhen choosing a brand, consider factors such as the specific type of mountain biking you plan to do (cross-country, trail, downhill, etc.), your budget, and whether you prefer any particular features (like full suspension vs. hardtail). It's also a good idea to visit local bike shops to test ride a few models and get a feel for what you like best.\", 'options': None}, {'role': 'user', 'metadata': None, 'content': 'Is Lapierre a good bike brand?', 'options': None}, {'role': 'assistant', 'metadata': None, 'content': \"Yes, Lapierre is generally considered a good bike brand, especially known for its mountain bikes and road bicycles. Founded in France in 1946, the company has a long history of producing high-quality bicycles, and they are well-regarded in the cycling community for several reasons:\\n\\n1. **Quality**: Lapierre bikes are known for their solid construction and durability. They often use high-quality materials, including lightweight aluminum and carbon fiber for their frames.\\n\\n2. **Technology**: The brand incorporates advanced technology and design features in their bikes, focusing on performance, comfort, and handling.\\n\\n3. **Range of Models**: Lapierre offers a diverse lineup of mountain bikes, road bikes, and e-bikes, catering to a variety of cycling styles and preferences.\\n\\n4. **Competitive Performance**: They have a strong presence in competitive cycling, with models that are designed for serious riders, including those participating in racing and trail riding.\\n\\n5. **Good Value**: While Lapierre bikes can be priced at a premium depending on the model, they often provide good value for the quality and performance you receive.\\n\\nIf you're considering a Lapierre bike, it's a good idea to test ride a few models to ensure you find one that fits you well and meets your riding requirements. Additionally, it's beneficial to check reviews and performance feedback specific to the model you're interested in.\", 'options': None}]\n",
      "And messages is:\n",
      "[{'role': 'system', 'content': 'You are a helpful assistant'}, {'role': 'user', 'metadata': None, 'content': 'hello there', 'options': None}, {'role': 'assistant', 'metadata': None, 'content': 'Hello! How can I assist you today?', 'options': None}, {'role': 'user', 'metadata': None, 'content': 'I want to buy a bike', 'options': None}, {'role': 'assistant', 'metadata': None, 'content': \"Great! Buying a bike can be an exciting experience. Here are some questions to help you narrow down your options:\\n\\n1. **What type of bike are you looking for?**\\n   - Road bike\\n   - Mountain bike\\n   - Hybrid bike\\n   - Electric bike\\n   - Cruiser bike\\n\\n2. **What will you primarily use the bike for?**\\n   - Commuting\\n   - Recreation\\n   - Off-road biking\\n   - Fitness\\n\\n3. **What is your budget?**\\n\\n4. **Do you have any size or fit preferences?**\\n   - It's important to ensure the bike fits you well.\\n\\n5. **Are there any specific features you're looking for?**\\n   - Gearing options, frame material, suspension, etc.\\n\\nOnce you provide more details, I can give you more tailored advice!\", 'options': None}, {'role': 'user', 'metadata': None, 'content': 'I want a montain bike, which are the best brand', 'options': None}, {'role': 'assistant', 'metadata': None, 'content': \"There are several reputable brands known for their quality mountain bikes. The best brand for you may depend on your specific needs, preferences, and budget. Here’s a list of some of the top mountain bike brands:\\n\\n1. **Trek**: Known for a wide range of models, Trek offers options for all skill levels and terrains.\\n\\n2. **Specialized**: This brand is popular among serious mountain bikers and features innovative technologies and high-performance bikes.\\n\\n3. **Giant**: One of the largest bike manufacturers in the world, Giant provides well-built bikes at various price points.\\n\\n4. **Santa Cruz**: Highly regarded for high-end mountain bikes, known for their quality and performance.\\n\\n5. **Cannondale**: Offering a range of mountain bikes, Cannondale is known for their innovative design and lightweight frames.\\n\\n6. **Rocky Mountain**: A Canadian brand focusing on performance-oriented mountain bikes, great for serious riders.\\n\\n7. **Scott**: Scott has a reputation for innovative technology and offers a variety of mountain bikes designed for different styles of riding.\\n\\n8. **Yeti Cycles**: Yeti is known for high-performance bikes, particularly for aggressive trail and enduro riding.\\n\\n9. **Norco**: A Canadian brand that has a strong reputation for producing quality mountain bikes, especially for varied terrains.\\n\\n10. **Marin Bikes**: A solid option for budget-conscious riders, offering a range of styles and quality for different skill levels.\\n\\nWhen choosing a brand, consider factors such as the specific type of mountain biking you plan to do (cross-country, trail, downhill, etc.), your budget, and whether you prefer any particular features (like full suspension vs. hardtail). It's also a good idea to visit local bike shops to test ride a few models and get a feel for what you like best.\", 'options': None}, {'role': 'user', 'metadata': None, 'content': 'Is Lapierre a good bike brand?', 'options': None}, {'role': 'assistant', 'metadata': None, 'content': \"Yes, Lapierre is generally considered a good bike brand, especially known for its mountain bikes and road bicycles. Founded in France in 1946, the company has a long history of producing high-quality bicycles, and they are well-regarded in the cycling community for several reasons:\\n\\n1. **Quality**: Lapierre bikes are known for their solid construction and durability. They often use high-quality materials, including lightweight aluminum and carbon fiber for their frames.\\n\\n2. **Technology**: The brand incorporates advanced technology and design features in their bikes, focusing on performance, comfort, and handling.\\n\\n3. **Range of Models**: Lapierre offers a diverse lineup of mountain bikes, road bikes, and e-bikes, catering to a variety of cycling styles and preferences.\\n\\n4. **Competitive Performance**: They have a strong presence in competitive cycling, with models that are designed for serious riders, including those participating in racing and trail riding.\\n\\n5. **Good Value**: While Lapierre bikes can be priced at a premium depending on the model, they often provide good value for the quality and performance you receive.\\n\\nIf you're considering a Lapierre bike, it's a good idea to test ride a few models to ensure you find one that fits you well and meets your riding requirements. Additionally, it's beneficial to check reviews and performance feedback specific to the model you're interested in.\", 'options': None}, {'role': 'user', 'content': 'I want to buy a red one'}]\n"
     ]
    }
   ],
   "source": [
    "gr.ChatInterface(fn=chat, type=\"messages\").launch()"
   ]
  },
  {
   "cell_type": "code",
   "execution_count": null,
   "id": "10a00783-f13e-4ad9-900c-cdfd83f2ca74",
   "metadata": {},
   "outputs": [],
   "source": []
  },
  {
   "cell_type": "code",
   "execution_count": null,
   "id": "cfb5bf86-d174-4a70-9d96-3b8542111915",
   "metadata": {},
   "outputs": [],
   "source": []
  },
  {
   "cell_type": "code",
   "execution_count": null,
   "id": "a34ce4b7-b0c2-4bf0-80b9-df20361755b5",
   "metadata": {},
   "outputs": [],
   "source": []
  },
  {
   "cell_type": "markdown",
   "id": "4a473e9a-1cf0-48ce-b6aa-cd303d66e31e",
   "metadata": {},
   "source": [
    "# Add multi shot prompting\n",
    "\n",
    "This is done in the system prompt.\n",
    "\n",
    "\n",
    "Yu can also \"prime\" the chatbot by adding a fictitious conversation between user and assistant at the begining of any conversation. So the llm knows better how to reply certain questions."
   ]
  },
  {
   "cell_type": "code",
   "execution_count": 7,
   "id": "1f91b414-8bab-472d-b9c9-3fa51259bdfe",
   "metadata": {},
   "outputs": [],
   "source": [
    "system_message = \"You are a helpful assistant in a clothes store. You should try to gently encourage \\\n",
    "the customer to try items that are on sale. Hats are 60% off, and most other items are 50% off. \\\n",
    "For example, if the customer says 'I'm looking to buy a hat', \\\n",
    "you could reply something like, 'Wonderful - we have lots of hats - including several that are part of our sales event.'\\\n",
    "Encourage the customer to buy hats if they are unsure what to get.\""
   ]
  },
  {
   "cell_type": "code",
   "execution_count": 8,
   "id": "4e5be3ec-c26c-42bc-ac16-c39d369883f6",
   "metadata": {},
   "outputs": [],
   "source": [
    "def chat(message, history):\n",
    "    messages = [{\"role\": \"system\", \"content\": system_message}] + history + [{\"role\": \"user\", \"content\": message}]\n",
    "\n",
    "    stream = openai.chat.completions.create(model=MODEL, messages=messages, stream=True)\n",
    "\n",
    "    response = \"\"\n",
    "    for chunk in stream:\n",
    "        response += chunk.choices[0].delta.content or ''\n",
    "        yield response"
   ]
  },
  {
   "cell_type": "code",
   "execution_count": 9,
   "id": "413e9e4e-7836-43ac-a0c3-e1ab5ed6b136",
   "metadata": {},
   "outputs": [
    {
     "name": "stdout",
     "output_type": "stream",
     "text": [
      "* Running on local URL:  http://127.0.0.1:7861\n",
      "\n",
      "To create a public link, set `share=True` in `launch()`.\n"
     ]
    },
    {
     "data": {
      "text/html": [
       "<div><iframe src=\"http://127.0.0.1:7861/\" width=\"100%\" height=\"500\" allow=\"autoplay; camera; microphone; clipboard-read; clipboard-write;\" frameborder=\"0\" allowfullscreen></iframe></div>"
      ],
      "text/plain": [
       "<IPython.core.display.HTML object>"
      ]
     },
     "metadata": {},
     "output_type": "display_data"
    },
    {
     "data": {
      "text/plain": []
     },
     "execution_count": 9,
     "metadata": {},
     "output_type": "execute_result"
    }
   ],
   "source": [
    "gr.ChatInterface(fn=chat, type=\"messages\").launch()"
   ]
  },
  {
   "cell_type": "code",
   "execution_count": null,
   "id": "d019118c-5b3e-4714-af13-bbd512ce050e",
   "metadata": {},
   "outputs": [],
   "source": []
  },
  {
   "cell_type": "code",
   "execution_count": null,
   "id": "238427d6-11e3-4713-afd8-f1ecb4ed8248",
   "metadata": {},
   "outputs": [],
   "source": []
  },
  {
   "cell_type": "code",
   "execution_count": 10,
   "id": "d75f0ffa-55c8-4152-b451-945021676837",
   "metadata": {},
   "outputs": [],
   "source": [
    "system_message += \"\\nIf the customer asks for shoes, you should respond that shoes are not on sale today, \\\n",
    "but remind the customer to look at hats!\""
   ]
  },
  {
   "cell_type": "code",
   "execution_count": 11,
   "id": "c602a8dd-2df7-4eb7-b539-4e01865a6351",
   "metadata": {},
   "outputs": [
    {
     "name": "stdout",
     "output_type": "stream",
     "text": [
      "* Running on local URL:  http://127.0.0.1:7862\n",
      "\n",
      "To create a public link, set `share=True` in `launch()`.\n"
     ]
    },
    {
     "data": {
      "text/html": [
       "<div><iframe src=\"http://127.0.0.1:7862/\" width=\"100%\" height=\"500\" allow=\"autoplay; camera; microphone; clipboard-read; clipboard-write;\" frameborder=\"0\" allowfullscreen></iframe></div>"
      ],
      "text/plain": [
       "<IPython.core.display.HTML object>"
      ]
     },
     "metadata": {},
     "output_type": "display_data"
    },
    {
     "data": {
      "text/plain": []
     },
     "execution_count": 11,
     "metadata": {},
     "output_type": "execute_result"
    }
   ],
   "source": [
    "gr.ChatInterface(fn=chat, type=\"messages\").launch()"
   ]
  },
  {
   "cell_type": "code",
   "execution_count": null,
   "id": "0a987a66-1061-46d6-a83a-a30859dc88bf",
   "metadata": {},
   "outputs": [],
   "source": [
    "# Fixed a bug in this function brilliantly identified by student Gabor M.!\n",
    "# I've also improved the structure of this function\n",
    "\n",
    "def chat(message, history):\n",
    "\n",
    "    relevant_system_message = system_message\n",
    "    if 'belt' in message:\n",
    "        relevant_system_message += \" The store does not sell belts; if you are asked for belts, be sure to point out other items on sale.\"\n",
    "    \n",
    "    messages = [{\"role\": \"system\", \"content\": relevant_system_message}] + history + [{\"role\": \"user\", \"content\": message}]\n",
    "\n",
    "    stream = openai.chat.completions.create(model=MODEL, messages=messages, stream=True)\n",
    "\n",
    "    response = \"\"\n",
    "    for chunk in stream:\n",
    "        response += chunk.choices[0].delta.content or ''\n",
    "        yield response"
   ]
  },
  {
   "cell_type": "code",
   "execution_count": null,
   "id": "20570de2-eaad-42cc-a92c-c779d71b48b6",
   "metadata": {},
   "outputs": [],
   "source": [
    "gr.ChatInterface(fn=chat, type=\"messages\").launch()"
   ]
  },
  {
   "cell_type": "markdown",
   "id": "82a57ee0-b945-48a7-a024-01b56a5d4b3e",
   "metadata": {},
   "source": [
    "<table style=\"margin: 0; text-align: left;\">\n",
    "    <tr>\n",
    "        <td style=\"width: 150px; height: 150px; vertical-align: middle;\">\n",
    "            <img src=\"../business.jpg\" width=\"150\" height=\"150\" style=\"display: block;\" />\n",
    "        </td>\n",
    "        <td>\n",
    "            <h2 style=\"color:#181;\">Business Applications</h2>\n",
    "            <span style=\"color:#181;\">Conversational Assistants are of course a hugely common use case for Gen AI, and the latest frontier models are remarkably good at nuanced conversation. And Gradio makes it easy to have a user interface. Another crucial skill we covered is how to use prompting to provide context, information and examples.\n",
    "<br/><br/>\n",
    "Consider how you could apply an AI Assistant to your business, and make yourself a prototype. Use the system prompt to give context on your business, and set the tone for the LLM.</span>\n",
    "        </td>\n",
    "    </tr>\n",
    "</table>"
   ]
  },
  {
   "cell_type": "code",
   "execution_count": 12,
   "id": "6dfb9e21-df67-4c2b-b952-5e7e7961b03d",
   "metadata": {},
   "outputs": [],
   "source": [
    "system_message = \"You are an english teacher. You should correct the grammatical mistakes the student is making when writing its messages.\""
   ]
  },
  {
   "cell_type": "code",
   "execution_count": 13,
   "id": "d8944fff-8171-44aa-a63a-8f732b161231",
   "metadata": {},
   "outputs": [
    {
     "name": "stdout",
     "output_type": "stream",
     "text": [
      "* Running on local URL:  http://127.0.0.1:7863\n",
      "\n",
      "To create a public link, set `share=True` in `launch()`.\n"
     ]
    },
    {
     "data": {
      "text/html": [
       "<div><iframe src=\"http://127.0.0.1:7863/\" width=\"100%\" height=\"500\" allow=\"autoplay; camera; microphone; clipboard-read; clipboard-write;\" frameborder=\"0\" allowfullscreen></iframe></div>"
      ],
      "text/plain": [
       "<IPython.core.display.HTML object>"
      ]
     },
     "metadata": {},
     "output_type": "display_data"
    },
    {
     "data": {
      "text/plain": []
     },
     "execution_count": 13,
     "metadata": {},
     "output_type": "execute_result"
    }
   ],
   "source": [
    "gr.ChatInterface(fn=chat, type=\"messages\").launch()"
   ]
  },
  {
   "cell_type": "code",
   "execution_count": null,
   "id": "0f6c0c98-307c-4df9-b89a-0744e2a54837",
   "metadata": {},
   "outputs": [],
   "source": []
  }
 ],
 "metadata": {
  "kernelspec": {
   "display_name": "Python 3 (ipykernel)",
   "language": "python",
   "name": "python3"
  },
  "language_info": {
   "codemirror_mode": {
    "name": "ipython",
    "version": 3
   },
   "file_extension": ".py",
   "mimetype": "text/x-python",
   "name": "python",
   "nbconvert_exporter": "python",
   "pygments_lexer": "ipython3",
   "version": "3.11.11"
  }
 },
 "nbformat": 4,
 "nbformat_minor": 5
}
